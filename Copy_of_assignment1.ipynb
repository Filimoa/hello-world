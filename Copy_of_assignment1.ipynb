{
  "nbformat": 4,
  "nbformat_minor": 0,
  "metadata": {
    "colab": {
      "name": "Copy of assignment1.ipynb",
      "version": "0.3.2",
      "provenance": [],
      "collapsed_sections": [],
      "include_colab_link": true
    },
    "kernelspec": {
      "name": "python3",
      "display_name": "Python 3"
    }
  },
  "cells": [
    {
      "cell_type": "markdown",
      "metadata": {
        "id": "view-in-github",
        "colab_type": "text"
      },
      "source": [
        "<a href=\"https://colab.research.google.com/github/Filimoa/hello-world/blob/master/Copy_of_assignment1.ipynb\" target=\"_parent\"><img src=\"https://colab.research.google.com/assets/colab-badge.svg\" alt=\"Open In Colab\"/></a>"
      ]
    },
    {
      "metadata": {
        "id": "uZLC-qIxAx_D",
        "colab_type": "text"
      },
      "cell_type": "markdown",
      "source": [
        "## Riddler Problem\n",
        "This notebook will be used to get a little practice with python.   The problem we will tackle is a [Riddler](https://fivethirtyeight.com/tag/the-riddler/).   These are a set of puzzles on the 538 website.   \n",
        "\n",
        "The problem we will tackle is \"Competitive Coin Flipping\", described [here](https://fivethirtyeight.com/features/the-new-national-pastime-competitive-coin-flipping/).\n",
        "\n",
        "Here is a snippet describing the problem:"
      ]
    },
    {
      "metadata": {
        "id": "McElDMMBAPki",
        "colab_type": "text"
      },
      "cell_type": "markdown",
      "source": [
        "From the website:  Riddler Nation recently legalized sports betting, and of course everyone is excited to risk some cash on the national pastime: competitive coin flipping.\n",
        "\n",
        "Every coin-flipping match is a faceoff between two teams. Each team selects a sequence of heads and/or tails to look for, and they simultaneously flip their own coin over and over until one team finds its sequence. If both teams find their sequences at the same time, they start over and flip until only team finds it. First to be the only team to have found its sequence wins.\n",
        "\n",
        "You decide to get in on the action and go to one of these events. When you arrive, you see that the Red Team has chosen the sequence “heads-tails,” while the Blue Team has chosen “heads-heads.” You can get even odds on either team. Which team should you put your money on?"
      ]
    },
    {
      "metadata": {
        "id": "ug8bAEhOB1Y5",
        "colab_type": "text"
      },
      "cell_type": "markdown",
      "source": [
        "## Your Task\n",
        "Write a python program to model this problem, and use the results to figure out if one team or the other is better to bet on.\n",
        "\n",
        "To begin this problem, we first need a random number generator, so we can simulate the flipping of a coin.   Go to google and type \"python random number between 0 and 1\".\n",
        "\n",
        "Use the information you find, and write a snippet of code to generate random numbers in a loop.    "
      ]
    },
    {
      "metadata": {
        "id": "P6Tq7f7YCifq",
        "colab_type": "code",
        "outputId": "f684ce8a-5b9d-4ffc-9ea3-feaa693c3f12",
        "colab": {
          "base_uri": "https://localhost:8080/",
          "height": 357
        }
      },
      "cell_type": "code",
      "source": [
        "#\n",
        "# Import the appropriate python package\n",
        "import random\n",
        "#\n",
        "# Here is a for loop that runs from 0 to 9 (1 less than the argument of \"range\")\n",
        "for i in range(10):\n",
        "#\n",
        "  print(\"Trial \",i)\n",
        "# ***ADD YOUR CODE HERE***\n",
        "  \n",
        "  randNum = random.randint(0, 1)\n",
        "  print(randNum)\n"
      ],
      "execution_count": 0,
      "outputs": [
        {
          "output_type": "stream",
          "text": [
            "Trial  0\n",
            "1\n",
            "Trial  1\n",
            "1\n",
            "Trial  2\n",
            "0\n",
            "Trial  3\n",
            "1\n",
            "Trial  4\n",
            "1\n",
            "Trial  5\n",
            "0\n",
            "Trial  6\n",
            "0\n",
            "Trial  7\n",
            "1\n",
            "Trial  8\n",
            "0\n",
            "Trial  9\n",
            "1\n"
          ],
          "name": "stdout"
        }
      ]
    },
    {
      "metadata": {
        "id": "G5wFn6HHCrHQ",
        "colab_type": "text"
      },
      "cell_type": "markdown",
      "source": [
        "We now need to simulate a coin flip.   Lets make a *method* to do just that.   Define heads as a random number greater or equal to 0.5, and tails as a number less than 0.5.   Have the method return a 1 if heads, and a 0 if tails."
      ]
    },
    {
      "metadata": {
        "id": "5DeT6kALDIUz",
        "colab_type": "code",
        "colab": {}
      },
      "cell_type": "code",
      "source": [
        "def coinFlip():\n",
        "#\n",
        "# Set default return value\n",
        "  flip = 0\n",
        "  val = 0.0\n",
        "#\n",
        "# ***ADD YOUR CODE HERE***\n",
        "#  used a simpler way to do this, see below\n",
        "#\n",
        "# Return the result\n",
        "  return flip, val"
      ],
      "execution_count": 0,
      "outputs": []
    },
    {
      "metadata": {
        "id": "mVxIZROQNigC",
        "colab_type": "text"
      },
      "cell_type": "markdown",
      "source": [
        "\n",
        "\n",
        "---\n",
        "\n",
        "Now test the method: use a loop so you can try it many times.   If the random number generator is good, then over a long time you should get as many heads as tails.  Test this!"
      ]
    },
    {
      "metadata": {
        "id": "sn-pAH80DaFr",
        "colab_type": "code",
        "colab": {}
      },
      "cell_type": "code",
      "source": [
        "for i in range(1000):\n",
        "#\n",
        "# Flip the coin!\n",
        "  flip = random.randint(0, 1)\n",
        "  flipDict = {0:\"tails\",1:\"heads\"}\n",
        "#\n",
        "# Print the result\n",
        "  print(\"results: \",flipDict[flip])\n",
        "#\n",
        "# How many total heads/tails were there?\n",
        "\n",
        "\n"
      ],
      "execution_count": 0,
      "outputs": []
    },
    {
      "metadata": {
        "id": "gZp1GVw5Ebpq",
        "colab_type": "text"
      },
      "cell_type": "markdown",
      "source": [
        "\n",
        "\n",
        "---\n",
        "\n",
        "\n",
        "\n",
        "---\n",
        "\n",
        "Now lets run the compettitiopn.   The rules are:\n",
        "1) Each team does a flip\n",
        "2) Team HT looks for a sequence of \"Heads, then Tails\".   Team HH looks for a sequence of \"Heads, then Heads\".   If they both get the sequence they want on the same flip, they start over."
      ]
    },
    {
      "metadata": {
        "id": "ka0uq5DlLiUA",
        "colab_type": "text"
      },
      "cell_type": "markdown",
      "source": [
        "\n",
        "\n",
        "---\n",
        "\n",
        "Write a method to run the competition.  You have some starter code below which should help.   Things to remember:\n",
        "\n",
        "*   You need to keep track of the *last* flip of each team, as well as the current flip.\n",
        "*   If both teams get their sequence, you need to start over\n",
        "*   Once a team gets its sequence, the competition ends\n"
      ]
    },
    {
      "metadata": {
        "id": "m9tKlr4NEbI2",
        "colab_type": "code",
        "colab": {}
      },
      "cell_type": "code",
      "source": [
        "def runCompetition():\n",
        "  '''\n",
        "  function to simulate coin flip competition between two teams\n",
        "  '''\n",
        "\n",
        "  #creating list that contains all coin tosses up to this point for each team\n",
        "  hh_list = []\n",
        "  ht_list = []\n",
        "\n",
        "  # Could do this with a \"while\" loop, or just use a real large number of trials\n",
        "  for trial in range(100):\n",
        "\n",
        "    #setting intial team 'win' status to lose\n",
        "    hh_status = 'lose'\n",
        "    ht_status = 'lose'\n",
        "    \n",
        "    #adding a new coin toss to each list\n",
        "    ht_list.append(random.randint(0, 1))\n",
        "    hh_list.append(random.randint(0,1))\n",
        "\n",
        "    #compare last two flips to predetermined team flip choice\n",
        "    if hh_list[-2:] == [0,1]:\n",
        "      hh_status = 'win'\n",
        "\n",
        "    if ht_list[-2:] == [1,1]:\n",
        "      ht_status = 'win'\n",
        "    \n",
        "    #if second team did not win then return first team as winner \n",
        "    if (hh_status == 'lose' and ht_status == 'win' ):\n",
        "      return 'HT'\n",
        "\n",
        "    #if first team won and other team lost return second team as winner\n",
        "    if (hh_status == 'win' and ht_status == 'lose' ):\n",
        "      return 'HH'\n",
        "    \n"
      ],
      "execution_count": 0,
      "outputs": []
    },
    {
      "metadata": {
        "id": "48tiDQALMG0a",
        "colab_type": "text"
      },
      "cell_type": "markdown",
      "source": [
        "\n",
        "\n",
        "---\n",
        "\n",
        "\n",
        "\n",
        "---\n",
        "\n",
        "Now what we want to figure out is: which team is more likely to win?   That is, of we are given *even* odds, which team would we pick to win.   To determoine this, we simple need to call our competition method many times (say 1000), and count how often one team wins vs the other.   if there is no advantage to either team, then both should win about 500 times."
      ]
    },
    {
      "metadata": {
        "id": "QxWCnqyeKeeZ",
        "colab_type": "code",
        "outputId": "1c489786-64c7-40db-fd9b-254af000c696",
        "colab": {
          "base_uri": "https://localhost:8080/",
          "height": 51
        }
      },
      "cell_type": "code",
      "source": [
        "#how many wins each team has\n",
        "winsHT = 0\n",
        "winsHH = 0\n",
        "\n",
        "#running through a lot of rounds\n",
        "for trials in range(2000):\n",
        "\n",
        "  #finding who won an individual competition\n",
        "  result = runCompetition()\n",
        "  \n",
        "  #incrementing win counter\n",
        "  if result == 'HT':\n",
        "    winsHT += 1\n",
        "  \n",
        "  if result == 'HH':\n",
        "    winsHH += 1\n",
        "\n",
        "   \n",
        "print(\"HH wins: \", winsHH)\n",
        "print(\"HT wins: \", winsHT)\n"
      ],
      "execution_count": 0,
      "outputs": [
        {
          "output_type": "stream",
          "text": [
            "HH wins:  1197\n",
            "HT wins:  803\n"
          ],
          "name": "stdout"
        }
      ]
    }
  ]
}